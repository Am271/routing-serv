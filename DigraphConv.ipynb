{
 "cells": [
  {
   "cell_type": "code",
   "execution_count": 1,
   "id": "fde011e2",
   "metadata": {},
   "outputs": [],
   "source": [
    "import osmnx as ox\n",
    "import networkx as nx\n",
    "import sys\n",
    "from geopy.distance import geodesic\n",
    "import pandas as pd\n",
    "\n",
    "\n",
    "def a_star(point1, point2, distance_func):\n",
    "\n",
    "    # get the nearest nodes to the start and end points\n",
    "    start_node = ox.distance.nearest_nodes(graph, point1[1], point1[0])\n",
    "    end_node = ox.distance.nearest_nodes(graph, point2[1], point2[0])\n",
    "\n",
    "    # run A* algorithm to find the shortest path\n",
    "    path = nx.astar_path(graph, start_node, end_node, heuristic=distance_func, weight='length')\n",
    "\n",
    "    # calculate the total distance of the path\n",
    "    # total_distance = sum(graph[u][v]['length'] for u, v in zip(path[:-1], path[1:]))\n",
    "\n",
    "    return path, 0\n",
    "\n",
    "# define the distance function to use as the heuristic\n",
    "def distance_func(u, v):\n",
    "    point1 = (graph.nodes[u]['y'], graph.nodes[u]['x'])\n",
    "    point2 = (graph.nodes[v]['y'], graph.nodes[v]['x'])\n",
    "    return geodesic(point1, point2).meters\n",
    "\n",
    "\n"
   ]
  },
  {
   "cell_type": "code",
   "execution_count": 2,
   "id": "81ed36fd",
   "metadata": {},
   "outputs": [],
   "source": [
    "# create the points\n",
    "point1 = 12.9246572, 77.5582014\n",
    "point2 = 13.0110216, 77.6747875\n",
    "\n",
    "# create the graph\n",
    "graph = ox.graph_from_point(point1, dist=15000, network_type='drive')  \n"
   ]
  },
  {
   "cell_type": "code",
   "execution_count": 12,
   "id": "cde9c859",
   "metadata": {
    "scrolled": true
   },
   "outputs": [
    {
     "name": "stdout",
     "output_type": "stream",
     "text": [
      "[(248007842, 1083515076, {'weight': 31.714}), (248007842, 308468445, {'weight': 48.054}), (5354313543, 17327095, {'weight': 5.962}), (5354313543, 362454516, {'weight': 71.107}), (5354313543, 5354313544, {'weight': 132.035})]\n"
     ]
    }
   ],
   "source": [
    "G = nx.DiGraph()\n",
    "for u,v,data in graph.edges(data=True):\n",
    "    w = data['length'] if 'length' in data else 0.0\n",
    "    if G.has_edge(u,v):\n",
    "        G[u][v]['weight'] += w\n",
    "    else:\n",
    "        G.add_edge(u, v, weight=w)\n",
    "\n",
    "# print(G.edges(data=True)[5:10])\n",
    "print(list(G.edges(data=True))[5:10])\n"
   ]
  },
  {
   "cell_type": "code",
   "execution_count": 11,
   "id": "d89fff86",
   "metadata": {},
   "outputs": [
    {
     "name": "stderr",
     "output_type": "stream",
     "text": [
      "IOPub data rate exceeded.\n",
      "The notebook server will temporarily stop sending output\n",
      "to the client in order to avoid crashing it.\n",
      "To change this limit, set the config variable\n",
      "`--NotebookApp.iopub_data_rate_limit`.\n",
      "\n",
      "Current values:\n",
      "NotebookApp.iopub_data_rate_limit=1000000.0 (bytes/sec)\n",
      "NotebookApp.rate_limit_window=3.0 (secs)\n",
      "\n"
     ]
    }
   ],
   "source": [
    "G = nx.DiGraph()\n",
    "for u,v,data in graph.edges(data=True):\n",
    "    w = data['length'] if 'length' in data else 0.0\n",
    "    if G.has_edge(u,v):\n",
    "        G[u][v]['weight'] += w\n",
    "    else:\n",
    "        G.add_edge(u, v, weight=w)\n",
    "\n",
    "# print(G.edges(data=True)[5:10])\n",
    "print(list(G.edges(data=True)))\n"
   ]
  },
  {
   "cell_type": "code",
   "execution_count": 23,
   "id": "e18204d9",
   "metadata": {},
   "outputs": [
    {
     "name": "stdout",
     "output_type": "stream",
     "text": [
      "248007842 1083515076 {'weight': 31.714}\n",
      "248007842 308468445 {'weight': 48.054}\n",
      "5354313543 17327095 {'weight': 5.962}\n",
      "5354313543 362454516 {'weight': 71.107}\n",
      "5354313543 5354313544 {'weight': 132.035}\n",
      "\n"
     ]
    }
   ],
   "source": [
    "L = list(G.edges(data=True))[5:10]\n",
    "f = open('fileS1.txt', 'w')\n",
    "for t in L :\n",
    "    line = ' '.join(str(x) for x in t)\n",
    "    f.write(line + '\\n')\n",
    "f.close()\n",
    "\n",
    "\n",
    "file1 = open('fileS1.txt', 'r')\n",
    "print(file1.read())\n",
    "file1.close()"
   ]
  },
  {
   "cell_type": "code",
   "execution_count": 29,
   "id": "a7638361",
   "metadata": {},
   "outputs": [
    {
     "data": {
      "text/html": [
       "<div>\n",
       "<style scoped>\n",
       "    .dataframe tbody tr th:only-of-type {\n",
       "        vertical-align: middle;\n",
       "    }\n",
       "\n",
       "    .dataframe tbody tr th {\n",
       "        vertical-align: top;\n",
       "    }\n",
       "\n",
       "    .dataframe thead th {\n",
       "        text-align: right;\n",
       "    }\n",
       "</style>\n",
       "<table border=\"1\" class=\"dataframe\">\n",
       "  <thead>\n",
       "    <tr style=\"text-align: right;\">\n",
       "      <th></th>\n",
       "      <th>user_from</th>\n",
       "      <th>user_to</th>\n",
       "      <th>trust</th>\n",
       "    </tr>\n",
       "  </thead>\n",
       "  <tbody>\n",
       "    <tr>\n",
       "      <th>248007842</th>\n",
       "      <td>1083515076</td>\n",
       "      <td>{'weight':</td>\n",
       "      <td>31.714}</td>\n",
       "    </tr>\n",
       "    <tr>\n",
       "      <th>248007842</th>\n",
       "      <td>308468445</td>\n",
       "      <td>{'weight':</td>\n",
       "      <td>48.054}</td>\n",
       "    </tr>\n",
       "    <tr>\n",
       "      <th>5354313543</th>\n",
       "      <td>17327095</td>\n",
       "      <td>{'weight':</td>\n",
       "      <td>5.962}</td>\n",
       "    </tr>\n",
       "    <tr>\n",
       "      <th>5354313543</th>\n",
       "      <td>362454516</td>\n",
       "      <td>{'weight':</td>\n",
       "      <td>71.107}</td>\n",
       "    </tr>\n",
       "    <tr>\n",
       "      <th>5354313543</th>\n",
       "      <td>5354313544</td>\n",
       "      <td>{'weight':</td>\n",
       "      <td>132.035}</td>\n",
       "    </tr>\n",
       "  </tbody>\n",
       "</table>\n",
       "</div>"
      ],
      "text/plain": [
       "             user_from     user_to     trust\n",
       "248007842   1083515076  {'weight':   31.714}\n",
       "248007842    308468445  {'weight':   48.054}\n",
       "5354313543    17327095  {'weight':    5.962}\n",
       "5354313543   362454516  {'weight':   71.107}\n",
       "5354313543  5354313544  {'weight':  132.035}"
      ]
     },
     "execution_count": 29,
     "metadata": {},
     "output_type": "execute_result"
    }
   ],
   "source": [
    "user = ['user_from', 'user_to', 'trust']\n",
    "df = pd.read_csv('C:/Users/sumed/OneDrive/Documents/Sumedh/Majorproject/routing-serv/fileS1.txt', sep= ' ', names= user )\n",
    "df.head()"
   ]
  },
  {
   "cell_type": "code",
   "execution_count": 37,
   "id": "9deeecb4",
   "metadata": {},
   "outputs": [
    {
     "data": {
      "text/html": [
       "<div>\n",
       "<style scoped>\n",
       "    .dataframe tbody tr th:only-of-type {\n",
       "        vertical-align: middle;\n",
       "    }\n",
       "\n",
       "    .dataframe tbody tr th {\n",
       "        vertical-align: top;\n",
       "    }\n",
       "\n",
       "    .dataframe thead th {\n",
       "        text-align: right;\n",
       "    }\n",
       "</style>\n",
       "<table border=\"1\" class=\"dataframe\">\n",
       "  <thead>\n",
       "    <tr style=\"text-align: right;\">\n",
       "      <th></th>\n",
       "      <th>user_from</th>\n",
       "      <th>user_to</th>\n",
       "      <th>trust</th>\n",
       "    </tr>\n",
       "  </thead>\n",
       "  <tbody>\n",
       "    <tr>\n",
       "      <th>248007842</th>\n",
       "      <td>1083515076</td>\n",
       "      <td>{'weight':</td>\n",
       "      <td>31.714}</td>\n",
       "    </tr>\n",
       "    <tr>\n",
       "      <th>248007842</th>\n",
       "      <td>308468445</td>\n",
       "      <td>{'weight':</td>\n",
       "      <td>48.054}</td>\n",
       "    </tr>\n",
       "    <tr>\n",
       "      <th>5354313543</th>\n",
       "      <td>17327095</td>\n",
       "      <td>{'weight':</td>\n",
       "      <td>5.962}</td>\n",
       "    </tr>\n",
       "    <tr>\n",
       "      <th>5354313543</th>\n",
       "      <td>362454516</td>\n",
       "      <td>{'weight':</td>\n",
       "      <td>71.107}</td>\n",
       "    </tr>\n",
       "    <tr>\n",
       "      <th>5354313543</th>\n",
       "      <td>5354313544</td>\n",
       "      <td>{'weight':</td>\n",
       "      <td>132.035}</td>\n",
       "    </tr>\n",
       "  </tbody>\n",
       "</table>\n",
       "</div>"
      ],
      "text/plain": [
       "             user_from     user_to     trust\n",
       "248007842   1083515076  {'weight':   31.714}\n",
       "248007842    308468445  {'weight':   48.054}\n",
       "5354313543    17327095  {'weight':    5.962}\n",
       "5354313543   362454516  {'weight':   71.107}\n",
       "5354313543  5354313544  {'weight':  132.035}"
      ]
     },
     "execution_count": 37,
     "metadata": {},
     "output_type": "execute_result"
    }
   ],
   "source": [
    "df.head()"
   ]
  }
 ],
 "metadata": {
  "kernelspec": {
   "display_name": "Python 3",
   "language": "python",
   "name": "python3"
  },
  "language_info": {
   "codemirror_mode": {
    "name": "ipython",
    "version": 3
   },
   "file_extension": ".py",
   "mimetype": "text/x-python",
   "name": "python",
   "nbconvert_exporter": "python",
   "pygments_lexer": "ipython3",
   "version": "3.10.0"
  },
  "vscode": {
   "interpreter": {
    "hash": "f5ff168696553f3e2cb115c273c46eeb315c32b0d0536992c4bad2740a7f9469"
   }
  }
 },
 "nbformat": 4,
 "nbformat_minor": 5
}
