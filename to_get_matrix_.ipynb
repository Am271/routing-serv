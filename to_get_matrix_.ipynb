{
  "nbformat": 4,
  "nbformat_minor": 0,
  "metadata": {
    "colab": {
      "provenance": []
    },
    "kernelspec": {
      "name": "python3",
      "display_name": "Python 3"
    },
    "language_info": {
      "name": "python"
    }
  },
  "cells": [
    {
      "cell_type": "code",
      "execution_count": 74,
      "metadata": {
        "id": "yesZCA0cNMor"
      },
      "outputs": [],
      "source": [
        "import numpy as np\n",
        "import pandas as pd\n",
        "df=pd.read_csv(\"Book1.csv\")\n",
        "class Node1:\n",
        "    def __init__(self, start_lat,start_lon):\n",
        "        self.df = pd.read_csv(\"Book1.csv\")\n",
        "        self.start_lat = start_lat\n",
        "        self.start_lon = start_lon\n",
        "        # self.values = self.df[[start_lat, start_lon]].values\n",
        "        # self.matrix = np.array(self.values)\n",
        "\n",
        "\n",
        "class Node2:\n",
        "    def __init__(self, dest_lat, dest_lon):\n",
        "        self.df = pd.read_csv(\"Book1.csv\")\n",
        "        self.dest_lat= dest_lat\n",
        "        self.dest_lon= dest_lon\n",
        "        # self.values = self.df[[dest_lat, dest_lon]].values\n",
        "        # self.matrix = np.array(self.values)\n",
        "      \n",
        "\n",
        "class Distance:\n",
        "    def __init__(self,distance):\n",
        "         self.df = pd.read_csv(\"Book1.csv\")\n",
        "        #  self.values =self.df[[distance]].values\n",
        "        #  self.matrix = np.array(self.values)\n",
        "        "
      ]
    },
    {
      "cell_type": "code",
      "source": [
        "\n",
        "node1 = Node1(\"start_lat\", \"start_lon\")\n",
        "node2 = Node2(\"dest_lat\", \"dest_lon\")\n",
        "distance = Distance(\"distance\")"
      ],
      "metadata": {
        "id": "wIhtqKaQNctq"
      },
      "execution_count": 75,
      "outputs": []
    },
    {
      "cell_type": "markdown",
      "source": [],
      "metadata": {
        "id": "_At9eGG9WpJq"
      }
    },
    {
      "cell_type": "code",
      "source": [
        "node1_vals = [node1.start_lat,node1.start_lon]\n",
        "node2_vals = [node2.dest_lat,node2.dest_lon]\n",
        "distance_val = [distance.distance]"
      ],
      "metadata": {
        "id": "Wd5a_jAQNfWH"
      },
      "execution_count": 76,
      "outputs": []
    },
    {
      "cell_type": "code",
      "source": [
        "\n",
        "matrix = [node1_vals, node2_vals, distance]\n",
        "\n",
        "for row in matrix:\n",
        "    print(row)\n"
      ],
      "metadata": {
        "colab": {
          "base_uri": "https://localhost:8080/"
        },
        "id": "XP_UQt_WlX3k",
        "outputId": "4d451fe3-58c1-4295-b540-ff1ea9abcb7a"
      },
      "execution_count": 107,
      "outputs": [
        {
          "output_type": "stream",
          "name": "stdout",
          "text": [
            "['start_lat', 'start_lon']\n",
            "['dest_lat', 'dest_lon']\n",
            "<__main__.Distance object at 0x7fcc5425d3a0>\n"
          ]
        }
      ]
    },
    {
      "cell_type": "code",
      "source": [],
      "metadata": {
        "id": "nm-dbbUMauJA"
      },
      "execution_count": null,
      "outputs": []
    }
  ]
}