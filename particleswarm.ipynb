{
 "cells": [
  {
   "attachments": {},
   "cell_type": "markdown",
   "metadata": {},
   "source": [
    "### Partice Swarm Optimization "
   ]
  },
  {
   "cell_type": "code",
   "execution_count": 1,
   "metadata": {},
   "outputs": [],
   "source": [
    "import osmnx as ox\n",
    "import numpy as np\n",
    "import matplotlib.pyplot as plt"
   ]
  },
  {
   "cell_type": "code",
   "execution_count": 2,
   "metadata": {},
   "outputs": [],
   "source": [
    "# Define the objective function to minimize (distance between nodes)\n",
    "def objective_function(route, graph):\n",
    "    distance = 0\n",
    "    for i in range(len(route) - 1):\n",
    "        distance += ox.distance.euclidean_dist_vec(graph.nodes[route[i]]['y'], \n",
    "                                                    graph.nodes[route[i]]['x'], \n",
    "                                                    graph.nodes[route[i+1]]['y'], \n",
    "                                                    graph.nodes[route[i+1]]['x'])\n",
    "    return distance"
   ]
  },
  {
   "cell_type": "code",
   "execution_count": 3,
   "metadata": {},
   "outputs": [],
   "source": [
    "# Defining the Particle class\n",
    "class Particle:\n",
    "    def __init__(self, graph, num_nodes):\n",
    "        self.position = np.random.permutation(range(num_nodes))\n",
    "        self.velocity = np.zeros(num_nodes)\n",
    "        self.best_position = self.position.copy()\n",
    "        self.best_score = objective_function(self.position, graph)\n",
    "\n",
    "    def update_velocity(self, global_best_position, omega, phi_p, phi_g):\n",
    "        r_p, r_g = np.random.random(2)\n",
    "        self.velocity = omega * self.velocity + phi_p * r_p * (self.best_position - self.position) + phi_g * r_g * (global_best_position - self.position)\n",
    "\n",
    "    def update_position(self, graph):\n",
    "        self.position = np.roll(self.position, np.random.randint(len(self.position)))\n",
    "        score = objective_function(self.position, graph)\n",
    "        if score < self.best_score:\n",
    "            self.best_position = self.position.copy()\n",
    "            self.best_score = score"
   ]
  },
  {
   "cell_type": "code",
   "execution_count": 4,
   "metadata": {},
   "outputs": [],
   "source": [
    "# Defining the PSO function\n",
    "def pso(graph, num_particles, max_iter):\n",
    "    # Initialize the particles\n",
    "    particles = [Particle(graph, len(graph.nodes)) for _ in range(num_particles)]\n",
    "\n",
    "    # Initialize the global best position\n",
    "    global_best_position = particles[0].best_position.copy()\n",
    "    global_best_score = particles[0].best_score\n",
    "\n",
    "    # Run the PSO algorithm\n",
    "    for i in range(max_iter):\n",
    "        for particle in particles:\n",
    "            particle.update_velocity(global_best_position, 0.5, 0.5, 0.5)\n",
    "            particle.update_position(graph)\n",
    "            if particle.best_score < global_best_score:\n",
    "                global_best_position = particle.best_position.copy()\n",
    "                global_best_score = particle.best_score\n",
    "\n",
    "    # Returning the best path\n",
    "    return global_best_position"
   ]
  },
  {
   "cell_type": "code",
   "execution_count": 5,
   "metadata": {},
   "outputs": [],
   "source": [
    "# Defining the main function to plot the path\n",
    "def plot_path(place):\n",
    "    # Downloading the street network\n",
    "    graph = ox.graph_from_place(place, network_type='drive')\n",
    "\n",
    "    # Running the PSO algorithm to find the best path\n",
    "    path = pso(graph, num_particles=20, max_iter=50)\n",
    "\n",
    "    # Plotting the path on the street network\n",
    "    fig, ax = ox.plot_graph_route(graph, path, fig_height=10, node_size=0, edge_color='r', edge_linewidth=2)\n",
    "\n",
    "    # Showing the plot\n",
    "    plt.show()"
   ]
  },
  {
   "cell_type": "code",
   "execution_count": 6,
   "metadata": {},
   "outputs": [
    {
     "ename": "KeyError",
     "evalue": "471",
     "output_type": "error",
     "traceback": [
      "\u001b[1;31m---------------------------------------------------------------------------\u001b[0m",
      "\u001b[1;31mKeyError\u001b[0m                                  Traceback (most recent call last)",
      "\u001b[1;32md:\\DSU\\Major Project\\routing-serv\\particleswarm.ipynb Cell 7\u001b[0m in \u001b[0;36m<cell line: 3>\u001b[1;34m()\u001b[0m\n\u001b[0;32m      <a href='vscode-notebook-cell:/d%3A/DSU/Major%20Project/routing-serv/particleswarm.ipynb#W6sZmlsZQ%3D%3D?line=0'>1</a>\u001b[0m \u001b[39m#the main function\u001b[39;00m\n\u001b[0;32m      <a href='vscode-notebook-cell:/d%3A/DSU/Major%20Project/routing-serv/particleswarm.ipynb#W6sZmlsZQ%3D%3D?line=1'>2</a>\u001b[0m place \u001b[39m=\u001b[39m \u001b[39m'\u001b[39m\u001b[39mKoramangala, Bangalore, India\u001b[39m\u001b[39m'\u001b[39m\n\u001b[1;32m----> <a href='vscode-notebook-cell:/d%3A/DSU/Major%20Project/routing-serv/particleswarm.ipynb#W6sZmlsZQ%3D%3D?line=2'>3</a>\u001b[0m plot_path(place)\n",
      "\u001b[1;32md:\\DSU\\Major Project\\routing-serv\\particleswarm.ipynb Cell 7\u001b[0m in \u001b[0;36mplot_path\u001b[1;34m(place)\u001b[0m\n\u001b[0;32m      <a href='vscode-notebook-cell:/d%3A/DSU/Major%20Project/routing-serv/particleswarm.ipynb#W6sZmlsZQ%3D%3D?line=3'>4</a>\u001b[0m graph \u001b[39m=\u001b[39m ox\u001b[39m.\u001b[39mgraph_from_place(place, network_type\u001b[39m=\u001b[39m\u001b[39m'\u001b[39m\u001b[39mdrive\u001b[39m\u001b[39m'\u001b[39m)\n\u001b[0;32m      <a href='vscode-notebook-cell:/d%3A/DSU/Major%20Project/routing-serv/particleswarm.ipynb#W6sZmlsZQ%3D%3D?line=5'>6</a>\u001b[0m \u001b[39m# Running the PSO algorithm to find the best path\u001b[39;00m\n\u001b[1;32m----> <a href='vscode-notebook-cell:/d%3A/DSU/Major%20Project/routing-serv/particleswarm.ipynb#W6sZmlsZQ%3D%3D?line=6'>7</a>\u001b[0m path \u001b[39m=\u001b[39m pso(graph, num_particles\u001b[39m=\u001b[39;49m\u001b[39m20\u001b[39;49m, max_iter\u001b[39m=\u001b[39;49m\u001b[39m50\u001b[39;49m)\n\u001b[0;32m      <a href='vscode-notebook-cell:/d%3A/DSU/Major%20Project/routing-serv/particleswarm.ipynb#W6sZmlsZQ%3D%3D?line=8'>9</a>\u001b[0m \u001b[39m# Plotting the path on the street network\u001b[39;00m\n\u001b[0;32m     <a href='vscode-notebook-cell:/d%3A/DSU/Major%20Project/routing-serv/particleswarm.ipynb#W6sZmlsZQ%3D%3D?line=9'>10</a>\u001b[0m fig, ax \u001b[39m=\u001b[39m ox\u001b[39m.\u001b[39mplot_graph_route(graph, path, fig_height\u001b[39m=\u001b[39m\u001b[39m10\u001b[39m, node_size\u001b[39m=\u001b[39m\u001b[39m0\u001b[39m, edge_color\u001b[39m=\u001b[39m\u001b[39m'\u001b[39m\u001b[39mr\u001b[39m\u001b[39m'\u001b[39m, edge_linewidth\u001b[39m=\u001b[39m\u001b[39m2\u001b[39m)\n",
      "\u001b[1;32md:\\DSU\\Major Project\\routing-serv\\particleswarm.ipynb Cell 7\u001b[0m in \u001b[0;36mpso\u001b[1;34m(graph, num_particles, max_iter)\u001b[0m\n\u001b[0;32m      <a href='vscode-notebook-cell:/d%3A/DSU/Major%20Project/routing-serv/particleswarm.ipynb#W6sZmlsZQ%3D%3D?line=1'>2</a>\u001b[0m \u001b[39mdef\u001b[39;00m \u001b[39mpso\u001b[39m(graph, num_particles, max_iter):\n\u001b[0;32m      <a href='vscode-notebook-cell:/d%3A/DSU/Major%20Project/routing-serv/particleswarm.ipynb#W6sZmlsZQ%3D%3D?line=2'>3</a>\u001b[0m     \u001b[39m# Initialize the particles\u001b[39;00m\n\u001b[1;32m----> <a href='vscode-notebook-cell:/d%3A/DSU/Major%20Project/routing-serv/particleswarm.ipynb#W6sZmlsZQ%3D%3D?line=3'>4</a>\u001b[0m     particles \u001b[39m=\u001b[39m [Particle(graph, \u001b[39mlen\u001b[39m(graph\u001b[39m.\u001b[39mnodes)) \u001b[39mfor\u001b[39;00m _ \u001b[39min\u001b[39;00m \u001b[39mrange\u001b[39m(num_particles)]\n\u001b[0;32m      <a href='vscode-notebook-cell:/d%3A/DSU/Major%20Project/routing-serv/particleswarm.ipynb#W6sZmlsZQ%3D%3D?line=5'>6</a>\u001b[0m     \u001b[39m# Initialize the global best position\u001b[39;00m\n\u001b[0;32m      <a href='vscode-notebook-cell:/d%3A/DSU/Major%20Project/routing-serv/particleswarm.ipynb#W6sZmlsZQ%3D%3D?line=6'>7</a>\u001b[0m     global_best_position \u001b[39m=\u001b[39m particles[\u001b[39m0\u001b[39m]\u001b[39m.\u001b[39mbest_position\u001b[39m.\u001b[39mcopy()\n",
      "\u001b[1;32md:\\DSU\\Major Project\\routing-serv\\particleswarm.ipynb Cell 7\u001b[0m in \u001b[0;36m<listcomp>\u001b[1;34m(.0)\u001b[0m\n\u001b[0;32m      <a href='vscode-notebook-cell:/d%3A/DSU/Major%20Project/routing-serv/particleswarm.ipynb#W6sZmlsZQ%3D%3D?line=1'>2</a>\u001b[0m \u001b[39mdef\u001b[39;00m \u001b[39mpso\u001b[39m(graph, num_particles, max_iter):\n\u001b[0;32m      <a href='vscode-notebook-cell:/d%3A/DSU/Major%20Project/routing-serv/particleswarm.ipynb#W6sZmlsZQ%3D%3D?line=2'>3</a>\u001b[0m     \u001b[39m# Initialize the particles\u001b[39;00m\n\u001b[1;32m----> <a href='vscode-notebook-cell:/d%3A/DSU/Major%20Project/routing-serv/particleswarm.ipynb#W6sZmlsZQ%3D%3D?line=3'>4</a>\u001b[0m     particles \u001b[39m=\u001b[39m [Particle(graph, \u001b[39mlen\u001b[39;49m(graph\u001b[39m.\u001b[39;49mnodes)) \u001b[39mfor\u001b[39;00m _ \u001b[39min\u001b[39;00m \u001b[39mrange\u001b[39m(num_particles)]\n\u001b[0;32m      <a href='vscode-notebook-cell:/d%3A/DSU/Major%20Project/routing-serv/particleswarm.ipynb#W6sZmlsZQ%3D%3D?line=5'>6</a>\u001b[0m     \u001b[39m# Initialize the global best position\u001b[39;00m\n\u001b[0;32m      <a href='vscode-notebook-cell:/d%3A/DSU/Major%20Project/routing-serv/particleswarm.ipynb#W6sZmlsZQ%3D%3D?line=6'>7</a>\u001b[0m     global_best_position \u001b[39m=\u001b[39m particles[\u001b[39m0\u001b[39m]\u001b[39m.\u001b[39mbest_position\u001b[39m.\u001b[39mcopy()\n",
      "\u001b[1;32md:\\DSU\\Major Project\\routing-serv\\particleswarm.ipynb Cell 7\u001b[0m in \u001b[0;36mParticle.__init__\u001b[1;34m(self, graph, num_nodes)\u001b[0m\n\u001b[0;32m      <a href='vscode-notebook-cell:/d%3A/DSU/Major%20Project/routing-serv/particleswarm.ipynb#W6sZmlsZQ%3D%3D?line=4'>5</a>\u001b[0m \u001b[39mself\u001b[39m\u001b[39m.\u001b[39mvelocity \u001b[39m=\u001b[39m np\u001b[39m.\u001b[39mzeros(num_nodes)\n\u001b[0;32m      <a href='vscode-notebook-cell:/d%3A/DSU/Major%20Project/routing-serv/particleswarm.ipynb#W6sZmlsZQ%3D%3D?line=5'>6</a>\u001b[0m \u001b[39mself\u001b[39m\u001b[39m.\u001b[39mbest_position \u001b[39m=\u001b[39m \u001b[39mself\u001b[39m\u001b[39m.\u001b[39mposition\u001b[39m.\u001b[39mcopy()\n\u001b[1;32m----> <a href='vscode-notebook-cell:/d%3A/DSU/Major%20Project/routing-serv/particleswarm.ipynb#W6sZmlsZQ%3D%3D?line=6'>7</a>\u001b[0m \u001b[39mself\u001b[39m\u001b[39m.\u001b[39mbest_score \u001b[39m=\u001b[39m objective_function(\u001b[39mself\u001b[39;49m\u001b[39m.\u001b[39;49mposition, graph)\n",
      "\u001b[1;32md:\\DSU\\Major Project\\routing-serv\\particleswarm.ipynb Cell 7\u001b[0m in \u001b[0;36mobjective_function\u001b[1;34m(route, graph)\u001b[0m\n\u001b[0;32m      <a href='vscode-notebook-cell:/d%3A/DSU/Major%20Project/routing-serv/particleswarm.ipynb#W6sZmlsZQ%3D%3D?line=2'>3</a>\u001b[0m distance \u001b[39m=\u001b[39m \u001b[39m0\u001b[39m\n\u001b[0;32m      <a href='vscode-notebook-cell:/d%3A/DSU/Major%20Project/routing-serv/particleswarm.ipynb#W6sZmlsZQ%3D%3D?line=3'>4</a>\u001b[0m \u001b[39mfor\u001b[39;00m i \u001b[39min\u001b[39;00m \u001b[39mrange\u001b[39m(\u001b[39mlen\u001b[39m(route) \u001b[39m-\u001b[39m \u001b[39m1\u001b[39m):\n\u001b[1;32m----> <a href='vscode-notebook-cell:/d%3A/DSU/Major%20Project/routing-serv/particleswarm.ipynb#W6sZmlsZQ%3D%3D?line=4'>5</a>\u001b[0m     distance \u001b[39m+\u001b[39m\u001b[39m=\u001b[39m ox\u001b[39m.\u001b[39mdistance\u001b[39m.\u001b[39meuclidean_dist_vec(graph\u001b[39m.\u001b[39;49mnodes[route[i]][\u001b[39m'\u001b[39m\u001b[39my\u001b[39m\u001b[39m'\u001b[39m], \n\u001b[0;32m      <a href='vscode-notebook-cell:/d%3A/DSU/Major%20Project/routing-serv/particleswarm.ipynb#W6sZmlsZQ%3D%3D?line=5'>6</a>\u001b[0m                                                 graph\u001b[39m.\u001b[39mnodes[route[i]][\u001b[39m'\u001b[39m\u001b[39mx\u001b[39m\u001b[39m'\u001b[39m], \n\u001b[0;32m      <a href='vscode-notebook-cell:/d%3A/DSU/Major%20Project/routing-serv/particleswarm.ipynb#W6sZmlsZQ%3D%3D?line=6'>7</a>\u001b[0m                                                 graph\u001b[39m.\u001b[39mnodes[route[i\u001b[39m+\u001b[39m\u001b[39m1\u001b[39m]][\u001b[39m'\u001b[39m\u001b[39my\u001b[39m\u001b[39m'\u001b[39m], \n\u001b[0;32m      <a href='vscode-notebook-cell:/d%3A/DSU/Major%20Project/routing-serv/particleswarm.ipynb#W6sZmlsZQ%3D%3D?line=7'>8</a>\u001b[0m                                                 graph\u001b[39m.\u001b[39mnodes[route[i\u001b[39m+\u001b[39m\u001b[39m1\u001b[39m]][\u001b[39m'\u001b[39m\u001b[39mx\u001b[39m\u001b[39m'\u001b[39m])\n\u001b[0;32m      <a href='vscode-notebook-cell:/d%3A/DSU/Major%20Project/routing-serv/particleswarm.ipynb#W6sZmlsZQ%3D%3D?line=8'>9</a>\u001b[0m \u001b[39mreturn\u001b[39;00m distance\n",
      "File \u001b[1;32mc:\\Users\\firaz\\AppData\\Local\\Programs\\Python\\Python310\\lib\\site-packages\\networkx\\classes\\reportviews.py:193\u001b[0m, in \u001b[0;36mNodeView.__getitem__\u001b[1;34m(self, n)\u001b[0m\n\u001b[0;32m    188\u001b[0m \u001b[39mif\u001b[39;00m \u001b[39misinstance\u001b[39m(n, \u001b[39mslice\u001b[39m):\n\u001b[0;32m    189\u001b[0m     \u001b[39mraise\u001b[39;00m nx\u001b[39m.\u001b[39mNetworkXError(\n\u001b[0;32m    190\u001b[0m         \u001b[39mf\u001b[39m\u001b[39m\"\u001b[39m\u001b[39m{\u001b[39;00m\u001b[39mtype\u001b[39m(\u001b[39mself\u001b[39m)\u001b[39m.\u001b[39m\u001b[39m__name__\u001b[39m\u001b[39m}\u001b[39;00m\u001b[39m does not support slicing, \u001b[39m\u001b[39m\"\u001b[39m\n\u001b[0;32m    191\u001b[0m         \u001b[39mf\u001b[39m\u001b[39m\"\u001b[39m\u001b[39mtry list(G.nodes)[\u001b[39m\u001b[39m{\u001b[39;00mn\u001b[39m.\u001b[39mstart\u001b[39m}\u001b[39;00m\u001b[39m:\u001b[39m\u001b[39m{\u001b[39;00mn\u001b[39m.\u001b[39mstop\u001b[39m}\u001b[39;00m\u001b[39m:\u001b[39m\u001b[39m{\u001b[39;00mn\u001b[39m.\u001b[39mstep\u001b[39m}\u001b[39;00m\u001b[39m]\u001b[39m\u001b[39m\"\u001b[39m\n\u001b[0;32m    192\u001b[0m     )\n\u001b[1;32m--> 193\u001b[0m \u001b[39mreturn\u001b[39;00m \u001b[39mself\u001b[39;49m\u001b[39m.\u001b[39;49m_nodes[n]\n",
      "\u001b[1;31mKeyError\u001b[0m: 471"
     ]
    }
   ],
   "source": [
    "#the main function\n",
    "place = 'Koramangala, Bangalore, India'\n",
    "plot_path(place)"
   ]
  },
  {
   "cell_type": "code",
   "execution_count": null,
   "metadata": {},
   "outputs": [],
   "source": []
  }
 ],
 "metadata": {
  "kernelspec": {
   "display_name": "Python 3",
   "language": "python",
   "name": "python3"
  },
  "language_info": {
   "codemirror_mode": {
    "name": "ipython",
    "version": 3
   },
   "file_extension": ".py",
   "mimetype": "text/x-python",
   "name": "python",
   "nbconvert_exporter": "python",
   "pygments_lexer": "ipython3",
   "version": "3.10.1"
  },
  "orig_nbformat": 4,
  "vscode": {
   "interpreter": {
    "hash": "b5509e2d5d24facd2c7ce5bb1947befc02185289efa3b0a3212fcadee0d354e0"
   }
  }
 },
 "nbformat": 4,
 "nbformat_minor": 2
}
