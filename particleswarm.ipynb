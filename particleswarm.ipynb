{
 "cells": [
  {
   "attachments": {},
   "cell_type": "markdown",
   "metadata": {},
   "source": [
    "### Partice Swarm Optimization "
   ]
  },
  {
   "cell_type": "code",
   "execution_count": 1,
   "metadata": {},
   "outputs": [],
   "source": [
    "import osmnx as ox\n",
    "import numpy as np\n",
    "import matplotlib.pyplot as plt"
   ]
  },
  {
   "cell_type": "code",
   "execution_count": 2,
   "metadata": {},
   "outputs": [],
   "source": [
    "# Define the objective function to minimize (distance between nodes)\n",
    "def objective_function(route, graph):\n",
    "    distance = 0\n",
    "    for i in range(len(route) - 1):\n",
    "        distance += ox.distance.euclidean_dist_vec(graph.nodes[route[i]]['y'], \n",
    "                                                    graph.nodes[route[i]]['x'], \n",
    "                                                    graph.nodes[route[i+1]]['y'], \n",
    "                                                    graph.nodes[route[i+1]]['x'])\n",
    "    return distance"
   ]
  },
  {
   "cell_type": "code",
   "execution_count": 3,
   "metadata": {},
   "outputs": [],
   "source": [
    "# Defining the Particle class\n",
    "class Particle:\n",
    "    def __init__(self, graph, num_nodes):\n",
    "        self.position = np.random.permutation(range(num_nodes))\n",
    "        self.velocity = np.zeros(num_nodes)\n",
    "        self.best_position = self.position.copy()\n",
    "        self.best_score = objective_function(self.position, graph)\n",
    "\n",
    "    def update_velocity(self, global_best_position, omega, phi_p, phi_g):\n",
    "        r_p, r_g = np.random.random(2)\n",
    "        self.velocity = omega * self.velocity + phi_p * r_p * (self.best_position - self.position) + phi_g * r_g * (global_best_position - self.position)\n",
    "\n",
    "    def update_position(self, graph):\n",
    "        self.position = np.roll(self.position, np.random.randint(len(self.position)))\n",
    "        score = objective_function(self.position, graph)\n",
    "        if score < self.best_score:\n",
    "            self.best_position = self.position.copy()\n",
    "            self.best_score = score"
   ]
  },
  {
   "cell_type": "code",
   "execution_count": 4,
   "metadata": {},
   "outputs": [],
   "source": [
    "# Defining the PSO function\n",
    "def pso(graph, num_particles, max_iter):\n",
    "    # Initialize the particles\n",
    "    particles = [Particle(graph, len(graph.nodes)) for _ in range(num_particles)]\n",
    "\n",
    "    # Initialize the global best position\n",
    "    global_best_position = particles[0].best_position.copy()\n",
    "    global_best_score = particles[0].best_score\n",
    "\n",
    "    # Run the PSO algorithm\n",
    "    for i in range(max_iter):\n",
    "        for particle in particles:\n",
    "            particle.update_velocity(global_best_position, 0.5, 0.5, 0.5)\n",
    "            particle.update_position(graph)\n",
    "            if particle.best_score < global_best_score:\n",
    "                global_best_position = particle.best_position.copy()\n",
    "                global_best_score = particle.best_score\n",
    "\n",
    "    # Returning the best path\n",
    "    return global_best_position"
   ]
  },
  {
   "cell_type": "code",
   "execution_count": 5,
   "metadata": {},
   "outputs": [],
   "source": [
    "# Defining the main function to plot the path\n",
    "def plot_path(place):\n",
    "    # Downloading the street network\n",
    "    graph = ox.graph_from_place(place, network_type='drive')\n",
    "\n",
    "    # Running the PSO algorithm to find the best path\n",
    "    path = pso(graph, num_particles=20, max_iter=50)\n",
    "\n",
    "    # Plotting the path on the street network\n",
    "    fig, ax = ox.plot_graph_route(graph, path, fig_height=10, node_size=0, edge_color='r', edge_linewidth=2)\n",
    "\n",
    "    # Showing the plot\n",
    "    plt.show()"
   ]
  },
  {
   "cell_type": "code",
   "execution_count": 8,
   "metadata": {},
   "outputs": [
    {
     "name": "stderr",
     "output_type": "stream",
     "text": [
      "\n",
      "KeyboardInterrupt\n",
      "\n"
     ]
    }
   ],
   "source": [
    "#the main function\n",
    "place = 'Koramangala, Bangalore, India'\n",
    "plot_path(place)"
   ]
  },
  {
   "cell_type": "code",
   "execution_count": null,
   "metadata": {},
   "outputs": [],
   "source": []
  }
 ],
 "metadata": {
  "kernelspec": {
   "display_name": "Python 3",
   "language": "python",
   "name": "python3"
  },
  "language_info": {
   "codemirror_mode": {
    "name": "ipython",
    "version": 3
   },
   "file_extension": ".py",
   "mimetype": "text/x-python",
   "name": "python",
   "nbconvert_exporter": "python",
   "pygments_lexer": "ipython3",
   "version": "3.10.1"
  },
  "orig_nbformat": 4,
  "vscode": {
   "interpreter": {
    "hash": "b5509e2d5d24facd2c7ce5bb1947befc02185289efa3b0a3212fcadee0d354e0"
   }
  }
 },
 "nbformat": 4,
 "nbformat_minor": 2
}
