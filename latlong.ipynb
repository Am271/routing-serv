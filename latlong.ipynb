{
  "nbformat": 4,
  "nbformat_minor": 0,
  "metadata": {
    "colab": {
      "provenance": [],
      "toc_visible": true
    },
    "kernelspec": {
      "name": "python3",
      "display_name": "Python 3"
    },
    "language_info": {
      "name": "python"
    }
  },
  "cells": [
    {
      "cell_type": "code",
      "source": [
        "import csv\n",
        "\n",
        "with open('Book1.csv', 'r') as file:\n",
        "     \n",
        "    csv_reader = csv.DictReader(file)\n",
        "    for row in csv_reader:\n",
        "        st_lat = float(row['start_lat'])\n",
        "        st_lon = float(row['start_lon'])\n",
        "        dest_lat = float(row['dest_lat'])\n",
        "        dest_lon = float(row['dest_lon'])\n",
        "        print(f\"Start latitude: {st_lat}, Start longitude: {st_lon}\")\n",
        "        print(f\"Destination latitude: {dest_lat}, Destination longitude: {dest_lon}\")\n"
      ],
      "metadata": {
        "id": "-IFbyfCuhlMS",
        "colab": {
          "base_uri": "https://localhost:8080/"
        },
        "outputId": "e67bf4a5-d2c6-4a05-9e24-6c4d2a696598"
      },
      "execution_count": 22,
      "outputs": [
        {
          "output_type": "stream",
          "name": "stdout",
          "text": [
            "Start latitude: 12.965316, Start longitude: 77.5842252\n",
            "Destination latitude: 12.9654449, Destination longitude: 77.5837855\n",
            "Start latitude: 12.965316, Start longitude: 77.5842252\n",
            "Destination latitude: 12.9658881, Destination longitude: 77.5844308\n",
            "Start latitude: 12.965316, Start longitude: 77.5842252\n",
            "Destination latitude: 12.9655813, Destination longitude: 77.5851353\n",
            "Start latitude: 12.9654449, Start longitude: 77.5837855\n",
            "Destination latitude: 12.9655193, Destination longitude: 77.583554\n",
            "Start latitude: 12.9654449, Start longitude: 77.5837855\n",
            "Destination latitude: 12.9658019, Destination longitude: 77.58395\n",
            "Start latitude: 12.9658881, Start longitude: 77.5844308\n",
            "Destination latitude: 12.965316, Destination longitude: 77.5842252\n",
            "Start latitude: 12.9658881, Start longitude: 77.5844308\n",
            "Destination latitude: 12.9660483, Destination longitude: 77.5844726\n",
            "Start latitude: 12.9658881, Start longitude: 77.5844308\n",
            "Destination latitude: 12.9660265, Destination longitude: 77.5840467\n",
            "Start latitude: 12.9655813, Start longitude: 77.5851353\n",
            "Destination latitude: 12.9657456, Destination longitude: 77.585796\n",
            "Start latitude: 12.9655813, Start longitude: 77.5851353\n",
            "Destination latitude: 12.9660558, Destination longitude: 77.5852352\n",
            "Start latitude: 12.9658524, Start longitude: 77.5862251\n",
            "Destination latitude: 12.9656016, Destination longitude: 77.586664\n",
            "Start latitude: 12.9658524, Start longitude: 77.5862251\n",
            "Destination latitude: 12.9660109, Destination longitude: 77.5867553\n",
            "Start latitude: 12.9656016, Start longitude: 77.586664\n",
            "Destination latitude: 12.9655019, Destination longitude: 77.5867787\n",
            "Start latitude: 12.9656016, Start longitude: 77.586664\n",
            "Destination latitude: 12.9660109, Destination longitude: 77.5867553\n",
            "Start latitude: 12.9660109, Start longitude: 77.5867553\n",
            "Destination latitude: 12.9668491, Destination longitude: 77.5874003\n",
            "Start latitude: 12.9668491, Start longitude: 77.5874003\n",
            "Destination latitude: 12.9669391, Destination longitude: 77.5871976\n",
            "Start latitude: 12.9668491, Start longitude: 77.5874003\n",
            "Destination latitude: 12.9670362, Destination longitude: 77.5874198\n",
            "Start latitude: 12.9730658, Start longitude: 77.5810143\n",
            "Destination latitude: 12.9732006, Destination longitude: 77.5807176\n",
            "Start latitude: 12.9730658, Start longitude: 77.5810143\n",
            "Destination latitude: 12.9742588, Destination longitude: 77.5818017\n",
            "Start latitude: 12.9732006, Start longitude: 77.5807176\n",
            "Destination latitude: 12.9736126, Destination longitude: 77.580749\n"
          ]
        }
      ]
    },
    {
      "cell_type": "code",
      "source": [
        "import csv\n",
        "import math\n",
        "\n",
        "class LatLong:\n",
        "    def __init__(self, latitude, longitude):\n",
        "        self.latitude = latitude\n",
        "        self.longitude = longitude\n",
        "\n",
        "    def __repr__(self):\n",
        "        return f\"LatLong(latitude={self.latitude}, longitude={self.longitude})\"\n",
        "\n",
        "class Distance:\n",
        "    def __init__(self, start_location, dest_location, distance):\n",
        "        self.start_location = start_location\n",
        "        self.dest_location = dest_location\n",
        "        self.distance = distance\n",
        "\n",
        "    def __repr__(self):\n",
        "        return f\"Distance(start_location={self.start_location}, dest_location={self.dest_location}, distance={self.distance})\"\n",
        "\n",
        "with open('Book1.csv', 'r') as file:\n",
        "    csv_reader = csv.DictReader(file)\n",
        "    for row in csv_reader:\n",
        "        start_location = LatLong(float(row['start_lat']), float(row['start_lon']))\n",
        "        dest_location = LatLong(float(row['dest_lat']), float(row['dest_lon']))\n",
        "        distance = float(row['distance'])\n",
        "        distance_obj = Distance(start_location, dest_location, distance)\n",
        "        print(distance_obj)\n"
      ],
      "metadata": {
        "colab": {
          "base_uri": "https://localhost:8080/"
        },
        "id": "Y2Wi338ZjCAx",
        "outputId": "6c775159-8cdf-4993-e1c3-9a102abe09e0"
      },
      "execution_count": 20,
      "outputs": [
        {
          "output_type": "stream",
          "name": "stdout",
          "text": [
            "Distance(start_location=LatLong(latitude=12.965316, longitude=77.5842252), dest_location=LatLong(latitude=12.9654449, longitude=77.5837855), distance=49.755)\n",
            "Distance(start_location=LatLong(latitude=12.965316, longitude=77.5842252), dest_location=LatLong(latitude=12.9658881, longitude=77.5844308), distance=67.403)\n",
            "Distance(start_location=LatLong(latitude=12.965316, longitude=77.5842252), dest_location=LatLong(latitude=12.9655813, longitude=77.5851353), distance=103.288)\n",
            "Distance(start_location=LatLong(latitude=12.9654449, longitude=77.5837855), dest_location=LatLong(latitude=12.9655193, longitude=77.583554), distance=26.414)\n",
            "Distance(start_location=LatLong(latitude=12.9654449, longitude=77.5837855), dest_location=LatLong(latitude=12.9658019, longitude=77.58395), distance=43.515)\n",
            "Distance(start_location=LatLong(latitude=12.9658881, longitude=77.5844308), dest_location=LatLong(latitude=12.965316, longitude=77.5842252), distance=67.403)\n",
            "Distance(start_location=LatLong(latitude=12.9658881, longitude=77.5844308), dest_location=LatLong(latitude=12.9660483, longitude=77.5844726), distance=18.38)\n",
            "Distance(start_location=LatLong(latitude=12.9658881, longitude=77.5844308), dest_location=LatLong(latitude=12.9660265, longitude=77.5840467), distance=44.375)\n",
            "Distance(start_location=LatLong(latitude=12.9655813, longitude=77.5851353), dest_location=LatLong(latitude=12.9657456, longitude=77.585796), distance=73.888)\n",
            "Distance(start_location=LatLong(latitude=12.9655813, longitude=77.5851353), dest_location=LatLong(latitude=12.9660558, longitude=77.5852352), distance=53.865)\n",
            "Distance(start_location=LatLong(latitude=12.9658524, longitude=77.5862251), dest_location=LatLong(latitude=12.9656016, longitude=77.586664), distance=56.234)\n",
            "Distance(start_location=LatLong(latitude=12.9658524, longitude=77.5862251), dest_location=LatLong(latitude=12.9660109, longitude=77.5867553), distance=60.095)\n",
            "Distance(start_location=LatLong(latitude=12.9656016, longitude=77.586664), dest_location=LatLong(latitude=12.9655019, longitude=77.5867787), distance=16.655)\n",
            "Distance(start_location=LatLong(latitude=12.9656016, longitude=77.586664), dest_location=LatLong(latitude=12.9660109, longitude=77.5867553), distance=47.367)\n",
            "Distance(start_location=LatLong(latitude=12.9660109, longitude=77.5867553), dest_location=LatLong(latitude=12.9668491, longitude=77.5874003), distance=118.001)\n",
            "Distance(start_location=LatLong(latitude=12.9668491, longitude=77.5874003), dest_location=LatLong(latitude=12.9669391, longitude=77.5871976), distance=24.137)\n",
            "Distance(start_location=LatLong(latitude=12.9668491, longitude=77.5874003), dest_location=LatLong(latitude=12.9670362, longitude=77.5874198), distance=20.912)\n",
            "Distance(start_location=LatLong(latitude=12.9730658, longitude=77.5810143), dest_location=LatLong(latitude=12.9732006, longitude=77.5807176), distance=35.472)\n",
            "Distance(start_location=LatLong(latitude=12.9730658, longitude=77.5810143), dest_location=LatLong(latitude=12.9742588, longitude=77.5818017), distance=157.847)\n",
            "Distance(start_location=LatLong(latitude=12.9732006, longitude=77.5807176), dest_location=LatLong(latitude=12.9736126, longitude=77.580749), distance=45.939)\n"
          ]
        }
      ]
    },
    {
      "cell_type": "code",
      "source": [],
      "metadata": {
        "id": "EswjKn5onY8t"
      },
      "execution_count": null,
      "outputs": []
    }
  ]
}